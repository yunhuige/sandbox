{
 "cells": [
  {
   "cell_type": "code",
   "execution_count": 1,
   "metadata": {},
   "outputs": [],
   "source": [
    "from openeye.oechem import *\n",
    "from openeye.oeiupac import *\n",
    "from openeye.oeomega import *\n",
    "from openeye.oeshape import *\n",
    "from openeye.oedepict import *"
   ]
  },
  {
   "cell_type": "code",
   "execution_count": 2,
   "metadata": {},
   "outputs": [
    {
     "data": {
      "text/plain": [
       "True"
      ]
     },
     "execution_count": 2,
     "metadata": {},
     "output_type": "execute_result"
    }
   ],
   "source": [
    "mol_from_smiles = OEMol()\n",
    "smiles = \"CC1=CC2=C(C=C1)C(Cl)=CC=C2\"\n",
    "OEParseSmiles(mol_from_smiles, smiles)\n"
   ]
  },
  {
   "cell_type": "code",
   "execution_count": 4,
   "metadata": {},
   "outputs": [
    {
     "data": {
      "text/plain": [
       "True"
      ]
     },
     "execution_count": 4,
     "metadata": {},
     "output_type": "execute_result"
    }
   ],
   "source": [
    "#import oenotebook as oenb\n",
    "#oenb.draw_mol(mol_from_smiles)\n",
    "from openeye.oechem import OEChemIsLicensed\n",
    "OEChemIsLicensed()"
   ]
  },
  {
   "cell_type": "code",
   "execution_count": 5,
   "metadata": {},
   "outputs": [
    {
     "data": {
      "text/plain": [
       "True"
      ]
     },
     "execution_count": 5,
     "metadata": {},
     "output_type": "execute_result"
    }
   ],
   "source": [
    "width=500\n",
    "height=200\n",
    "supH = True #Suppress hydrogens?\n",
    "\n",
    "# Prepare depiction/options\n",
    "mol = oechem.OEMol(mol_from_smiles) # Create new OEMol; without this, it might flatten your molecule\n",
    "dopt = OEPrepareDepictionOptions() # Get options\n",
    "dopt.SetSuppressHydrogens(supH) # Hide hydrogens\n",
    "OEPrepareDepiction(mol, dopt) # Prepare depiction\n",
    "opts = OE2DMolDisplayOptions(width, height, OEScale_AutoScale) # Set size options/scaling\n",
    "\n",
    "# Set up display and export image to file\n",
    "disp = OE2DMolDisplay(mol, opts)\n",
    "OERenderMolecule('test_image.pdf', disp, False)"
   ]
  },
  {
   "cell_type": "code",
   "execution_count": 6,
   "metadata": {},
   "outputs": [
    {
     "data": {
      "text/plain": [
       "12"
      ]
     },
     "execution_count": 6,
     "metadata": {},
     "output_type": "execute_result"
    }
   ],
   "source": [
    "mol_from_smiles.NumAtoms()"
   ]
  },
  {
   "cell_type": "code",
   "execution_count": 7,
   "metadata": {},
   "outputs": [],
   "source": [
    "#First we set up Omega\n",
    "#Initialize class\n",
    "omega = OEOmega() \n",
    "#Only generate one conformer for our molecule\n",
    "omega.SetMaxConfs(1) \n",
    "#Set to False to pick random stereoisomer if stereochemistry is not specified (not relevant here)\n",
    "omega.SetStrictStereo(False) \n",
    "#Be a little loose about atom typing to ensure parameters are available to omega for all molecules\n",
    "omega.SetStrictAtomTypes(False)\n"
   ]
  },
  {
   "cell_type": "code",
   "execution_count": 9,
   "metadata": {},
   "outputs": [
    {
     "name": "stdout",
     "output_type": "stream",
     "text": [
      "21\n"
     ]
    }
   ],
   "source": [
    "mol = OEMol(mol_from_smiles)\n",
    "\n",
    "#Now we generate conformations for our molecule from above. \n",
    "omega(mol)\n",
    "print(mol.NumAtoms())\n"
   ]
  },
  {
   "cell_type": "code",
   "execution_count": 10,
   "metadata": {},
   "outputs": [],
   "source": [
    "#First we create an output stream (just like we did for an input stream)\n",
    "ostream = oemolostream( 'mymolecule.mol2')\n",
    "#Now we write our molecule\n",
    "OEWriteMolecule(ostream, mol)\n",
    "#And close the output stream\n",
    "ostream.close()"
   ]
  },
  {
   "cell_type": "code",
   "execution_count": 12,
   "metadata": {},
   "outputs": [
    {
     "data": {
      "application/vnd.jupyter.widget-view+json": {
       "model_id": "340e9316481f4644a1576385a7d4ae0a",
       "version_major": 2,
       "version_minor": 0
      },
      "text/plain": []
     },
     "metadata": {},
     "output_type": "display_data"
    },
    {
     "data": {
      "application/vnd.jupyter.widget-view+json": {
       "model_id": "625000251ba3413f8f27363c56ec1789",
       "version_major": 2,
       "version_minor": 0
      },
      "text/plain": [
       "NGLWidget()"
      ]
     },
     "metadata": {},
     "output_type": "display_data"
    }
   ],
   "source": [
    "import mdtraj, nglview\n",
    "traj = mdtraj.load('mymolecule.mol2')\n",
    "view = nglview.show_mdtraj(traj)\n",
    "view"
   ]
  },
  {
   "cell_type": "code",
   "execution_count": 13,
   "metadata": {},
   "outputs": [
    {
     "data": {
      "text/plain": [
       "True"
      ]
     },
     "execution_count": 13,
     "metadata": {},
     "output_type": "execute_result"
    }
   ],
   "source": [
    "#Let's first generate morphine and tramadol from their names\n",
    "morphine= OEMol()\n",
    "OEParseIUPACName(morphine, 'morphine')\n",
    "#Make sure we get 'True' so we know it worked:"
   ]
  },
  {
   "cell_type": "code",
   "execution_count": 27,
   "metadata": {},
   "outputs": [
    {
     "name": "stdout",
     "output_type": "stream",
     "text": [
      "40\n"
     ]
    }
   ],
   "source": [
    "omega = OEOmega() \n",
    "#Only generate one conformer for our molecule\n",
    "omega.SetMaxConfs(1) \n",
    "#Set to False to pick random stereoisomer if stereochemistry is not specified (not relevant here)\n",
    "omega.SetStrictStereo(False) \n",
    "#Be a little loose about atom typing to ensure parameters are available to omega for all molecules\n",
    "omega.SetStrictAtomTypes(False)\n",
    "\n",
    "mol = OEMol(morphine)\n",
    "\n",
    "#Now we generate conformations for our molecule from above. \n",
    "omega(mol)\n",
    "print(mol.NumAtoms())\n",
    "\n",
    "\n",
    "ostream = oemolostream( 'morphine.mol2')\n",
    "#Now we write our molecule\n",
    "OEWriteMolecule(ostream, mol)\n",
    "#And close the output stream\n",
    "ostream.close()"
   ]
  },
  {
   "cell_type": "code",
   "execution_count": 14,
   "metadata": {},
   "outputs": [
    {
     "data": {
      "text/plain": [
       "False"
      ]
     },
     "execution_count": 14,
     "metadata": {},
     "output_type": "execute_result"
    }
   ],
   "source": [
    "#What about tramadol?\n",
    "tramadol = OEMol()\n",
    "OEParseIUPACName(tramadol, 'tramadol')"
   ]
  },
  {
   "cell_type": "code",
   "execution_count": 28,
   "metadata": {},
   "outputs": [
    {
     "name": "stdout",
     "output_type": "stream",
     "text": [
      "44\n"
     ]
    }
   ],
   "source": [
    "OEParseIUPACName(tramadol, '2-[(Dimethylamino)methyl]-1-(3-methoxyphenyl)cyclohexanol')\n",
    "omega = OEOmega() \n",
    "#Only generate one conformer for our molecule\n",
    "omega.SetMaxConfs(1) \n",
    "#Set to False to pick random stereoisomer if stereochemistry is not specified (not relevant here)\n",
    "omega.SetStrictStereo(False) \n",
    "#Be a little loose about atom typing to ensure parameters are available to omega for all molecules\n",
    "omega.SetStrictAtomTypes(False)\n",
    "\n",
    "mol = OEMol(tramadol)\n",
    "\n",
    "#Now we generate conformations for our molecule from above. \n",
    "omega(mol)\n",
    "print(mol.NumAtoms())\n",
    "\n",
    "\n",
    "ostream = oemolostream( 'tramadol.mol2')\n",
    "#Now we write our molecule\n",
    "OEWriteMolecule(ostream, mol)\n",
    "#And close the output stream\n",
    "ostream.close()"
   ]
  },
  {
   "cell_type": "code",
   "execution_count": 29,
   "metadata": {
    "scrolled": true
   },
   "outputs": [
    {
     "data": {
      "application/vnd.jupyter.widget-view+json": {
       "model_id": "47c501238fea4e27a29ab16163f364b6",
       "version_major": 2,
       "version_minor": 0
      },
      "text/plain": [
       "NGLWidget()"
      ]
     },
     "metadata": {},
     "output_type": "display_data"
    }
   ],
   "source": [
    "traj = mdtraj.load('morphine.mol2')\n",
    "view = nglview.show_mdtraj(traj)\n",
    "view"
   ]
  },
  {
   "cell_type": "code",
   "execution_count": 30,
   "metadata": {},
   "outputs": [
    {
     "data": {
      "application/vnd.jupyter.widget-view+json": {
       "model_id": "4254aeb387924d2c927d0b576c902474",
       "version_major": 2,
       "version_minor": 0
      },
      "text/plain": [
       "NGLWidget()"
      ]
     },
     "metadata": {},
     "output_type": "display_data"
    }
   ],
   "source": [
    "traj = mdtraj.load('tramadol.mol2')\n",
    "view = nglview.show_mdtraj(traj)\n",
    "view"
   ]
  },
  {
   "cell_type": "code",
   "execution_count": 20,
   "metadata": {},
   "outputs": [],
   "source": [
    "#We make sure Omega is loaded and initialized\n",
    "#This time we want to consider multiple conformations, since the OpenEye shape toolkit will just do a rigid\n",
    "#overlay of whatever conformations we give it onto one another. But here, at least one of the molecules\n",
    "#has substantial flexibility, and we want to find the conformation which results in the best match\n",
    "omega = OEOmega() #Initialize class\n",
    "omega.SetMaxConfs(100) #Here we want to use more conformers if needed\n",
    "omega.SetStrictStereo(False) #Set to false to pick random stereoisomer if stereochemistry is not specified\n",
    "omega.SetStrictAtomTypes(False) #Be a little loose about atom typing to ensure parameters are available to omega for all molecules\n",
    "#In this case the 'StrictStereo' parameter above will also matter. Since tramadol has an unspecified stereocenter, \n",
    "#this will cause Omega to pick a random stereoisomer. Without specifying this, Omega will refuse to do anything."
   ]
  },
  {
   "cell_type": "code",
   "execution_count": 21,
   "metadata": {},
   "outputs": [],
   "source": [
    "#Now let's generate 3D conformations for morphine and label it our 'reference' molecule:\n",
    "refmol = morphine\n",
    "omega(refmol)\n",
    "\n",
    "#Now we generate 3D conformations for tramadol and label it our 'fitmol', the molecule to be fit onto the reference\n",
    "fitmol = tramadol\n",
    "omega(fitmol)\n",
    "fitmol.SetTitle('tramadol')\n",
    "\n",
    "#And just so we can see how this works, let's write out morphine to a mol2 file for viewing later\n",
    "ofs = oemolostream('ref.mol2')\n",
    "OEWriteMolecule(ofs, refmol)\n",
    "ofs.close()"
   ]
  },
  {
   "cell_type": "code",
   "execution_count": 22,
   "metadata": {},
   "outputs": [],
   "source": [
    "# Open output stream for output molecule\n",
    "outfs = oemolostream('fitted_output.mol2')\n",
    "# How many conformers will we generate for fitting?\n",
    "nconfs = 20\n"
   ]
  },
  {
   "cell_type": "code",
   "execution_count": 23,
   "metadata": {},
   "outputs": [
    {
     "data": {
      "text/plain": [
       "0"
      ]
     },
     "execution_count": 23,
     "metadata": {},
     "output_type": "execute_result"
    }
   ],
   "source": [
    "# Setup ROCS to provide specified number of conformers per hit\n",
    "options = OEROCSOptions()\n",
    "options.SetNumBestHits(1)\n",
    "options.SetConfsPerHit(nconfs)\n",
    "rocs = OEROCS(options)\n",
    "rocs.AddMolecule(fitmol) #Add our molecule as the one we are fitting"
   ]
  },
  {
   "cell_type": "code",
   "execution_count": 25,
   "metadata": {},
   "outputs": [
    {
     "name": "stdout",
     "output_type": "stream",
     "text": [
      "title: tramadol_15  tanimoto combo = 0.94\n"
     ]
    }
   ],
   "source": [
    " #Loop over results and output\n",
    "for res in rocs.Overlay(refmol):\n",
    "    outmol = res.GetOverlayConf() #Use GetOverlayConf to get just the best; GetOverlayConfs for all\n",
    "    OERemoveColorAtoms(outmol)\n",
    "    OEAddExplicitHydrogens(outmol)\n",
    "    OEWriteMolecule(outfs, outmol)\n",
    "    print(\"title: %s  tanimoto combo = %.2f\" % (outmol.GetTitle(), res.GetTanimotoCombo()))\n",
    "outfs.close()"
   ]
  },
  {
   "cell_type": "code",
   "execution_count": 26,
   "metadata": {},
   "outputs": [
    {
     "data": {
      "application/vnd.jupyter.widget-view+json": {
       "model_id": "1f8413a7dbe949e996c93bd813e17909",
       "version_major": 2,
       "version_minor": 0
      },
      "text/plain": [
       "NGLWidget()"
      ]
     },
     "metadata": {},
     "output_type": "display_data"
    }
   ],
   "source": [
    "import mdtraj, nglview\n",
    "\n",
    "ref = mdtraj.load('ref.mol2')\n",
    "view = nglview.show_mdtraj(ref)\n",
    "\n",
    "\n",
    "fitted = mdtraj.load('fitted_output.mol2')\n",
    "view.add_trajectory(fitted)\n",
    "\n",
    "#view[1].clear_representations() #Use this and the below to switch one to blue sticks to make it easier to see\n",
    "#view[1].add_ball_and_stick(color='blue')\n",
    "view"
   ]
  },
  {
   "cell_type": "code",
   "execution_count": null,
   "metadata": {},
   "outputs": [],
   "source": []
  }
 ],
 "metadata": {
  "kernelspec": {
   "display_name": "Python 2",
   "language": "python",
   "name": "python2"
  },
  "language_info": {
   "codemirror_mode": {
    "name": "ipython",
    "version": 2
   },
   "file_extension": ".py",
   "mimetype": "text/x-python",
   "name": "python",
   "nbconvert_exporter": "python",
   "pygments_lexer": "ipython2",
   "version": "2.7.6"
  }
 },
 "nbformat": 4,
 "nbformat_minor": 4
}
